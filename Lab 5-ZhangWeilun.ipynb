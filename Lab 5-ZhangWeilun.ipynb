{
 "cells": [
  {
   "cell_type": "code",
   "execution_count": 1,
   "metadata": {},
   "outputs": [],
   "source": [
    "from sklearn.preprocessing import StandardScaler\n",
    "from sklearn.decomposition import TruncatedSVD\n",
    "from scipy.sparse import csr_matrix\n",
    "from sklearn import datasets\n",
    "import numpy as np"
   ]
  },
  {
   "cell_type": "code",
   "execution_count": 2,
   "metadata": {},
   "outputs": [
    {
     "name": "stdout",
     "output_type": "stream",
     "text": [
      "[[ 0.  0.  5. ...  0.  0.  0.]\n",
      " [ 0.  0.  0. ... 10.  0.  0.]\n",
      " [ 0.  0.  0. ... 16.  9.  0.]\n",
      " ...\n",
      " [ 0.  0.  1. ...  6.  0.  0.]\n",
      " [ 0.  0.  2. ... 12.  0.  0.]\n",
      " [ 0.  0. 10. ... 12.  1.  0.]]\n"
     ]
    }
   ],
   "source": [
    "digits = datasets.load_digits()\n",
    "print(digits.data)"
   ]
  },
  {
   "cell_type": "code",
   "execution_count": 4,
   "metadata": {},
   "outputs": [
    {
     "name": "stdout",
     "output_type": "stream",
     "text": [
      "  (0, 1)\t-0.3350164872543856\n",
      "  (0, 2)\t-0.04308101770538793\n",
      "  (0, 3)\t0.2740715207154218\n",
      "  (0, 4)\t-0.6644775126361527\n",
      "  (0, 5)\t-0.8441293865949171\n",
      "  (0, 6)\t-0.40972392088346243\n",
      "  (0, 7)\t-0.1250229232970408\n",
      "  (0, 8)\t-0.05907755711884675\n",
      "  (0, 9)\t-0.6240092623290964\n",
      "  (0, 10)\t0.4829744992519545\n",
      "  (0, 11)\t0.7596224512649244\n",
      "  (0, 12)\t-0.05842586308220443\n",
      "  (0, 13)\t1.1277211297338117\n",
      "  (0, 14)\t0.8795830595483867\n",
      "  (0, 15)\t-0.13043338063115095\n",
      "  (0, 16)\t-0.04462507326885248\n",
      "  (0, 17)\t0.11144272449970435\n",
      "  (0, 18)\t0.8958804382797294\n",
      "  (0, 19)\t-0.8606663175537699\n",
      "  (0, 20)\t-1.1496484601880896\n",
      "  (0, 21)\t0.5154718747277965\n",
      "  (0, 22)\t1.905963466976408\n",
      "  (0, 23)\t-0.11422184388584329\n",
      "  (0, 24)\t-0.03337972630405602\n",
      "  (0, 25)\t0.48648927722411006\n",
      "  :\t:\n",
      "  (1796, 38)\t-0.8226945146290309\n",
      "  (1796, 40)\t-0.061343668908253476\n",
      "  (1796, 41)\t0.8105536026095989\n",
      "  (1796, 42)\t1.3950951873625397\n",
      "  (1796, 43)\t-0.19072005925701047\n",
      "  (1796, 44)\t-0.5868275383619802\n",
      "  (1796, 45)\t1.3634658076459107\n",
      "  (1796, 46)\t0.5874903313016945\n",
      "  (1796, 47)\t-0.08874161717060432\n",
      "  (1796, 48)\t-0.035433262605025426\n",
      "  (1796, 49)\t4.179200682513991\n",
      "  (1796, 50)\t1.505078217025183\n",
      "  (1796, 51)\t0.0881769306516768\n",
      "  (1796, 52)\t-0.26718796251356636\n",
      "  (1796, 53)\t1.2010187221077009\n",
      "  (1796, 54)\t0.8692294429227895\n",
      "  (1796, 55)\t-0.2097851269640334\n",
      "  (1796, 56)\t-0.023596458909150665\n",
      "  (1796, 57)\t0.7715345500122912\n",
      "  (1796, 58)\t0.47875261517372414\n",
      "  (1796, 59)\t-0.020358468129093202\n",
      "  (1796, 60)\t0.4441643511677691\n",
      "  (1796, 61)\t0.8876022965425754\n",
      "  (1796, 62)\t-0.26113572420685327\n",
      "  (1796, 63)\t-0.1960075186604789\n"
     ]
    }
   ],
   "source": [
    "X = StandardScaler().fit_transform(digits.data)\n",
    "X_sparse = csr_matrix(X)\n",
    "print(X_sparse)"
   ]
  },
  {
   "cell_type": "code",
   "execution_count": 8,
   "metadata": {},
   "outputs": [
    {
     "name": "stdout",
     "output_type": "stream",
     "text": [
      "TruncatedSVD(algorithm='randomized', n_components=62, n_iter=5,\n",
      "       random_state=None, tol=0.0)\n"
     ]
    }
   ],
   "source": [
    "tsvd = TruncatedSVD(n_components=X_sparse.shape[1]-2)\n",
    "X_tsvd = tsvd.fit(X)\n",
    "print(X_tsvd)"
   ]
  },
  {
   "cell_type": "code",
   "execution_count": 9,
   "metadata": {},
   "outputs": [],
   "source": [
    "tsvd_var_ratios = tsvd.explained_variance_ratio_"
   ]
  },
  {
   "cell_type": "code",
   "execution_count": 10,
   "metadata": {},
   "outputs": [],
   "source": [
    "def feature_selection_svd(var_ratio, goal_var: float) -> int:\n",
    "    # Set initial varience to 0\n",
    "    total_var = 0.0\n",
    "    # Set the initial number of features\n",
    "    n_components = 0\n",
    "    \n",
    "    # For the explained variance of each feature:\n",
    "    for exp_var in var_ratio:\n",
    "        total_var += exp_var\n",
    "        n_components += 1\n",
    "        if total_var >= goal_var:\n",
    "            break\n",
    "    return n_components"
   ]
  },
  {
   "cell_type": "code",
   "execution_count": 11,
   "metadata": {},
   "outputs": [
    {
     "data": {
      "text/plain": [
       "31"
      ]
     },
     "execution_count": 11,
     "metadata": {},
     "output_type": "execute_result"
    }
   ],
   "source": [
    "#Set the goal_variance to 0.9 and return the number of components that pass through the threshhold\n",
    "feature_selection_svd(tsvd_var_ratios, 0.9)"
   ]
  }
 ],
 "metadata": {
  "kernelspec": {
   "display_name": "Python 3",
   "language": "python",
   "name": "python3"
  },
  "language_info": {
   "codemirror_mode": {
    "name": "ipython",
    "version": 3
   },
   "file_extension": ".py",
   "mimetype": "text/x-python",
   "name": "python",
   "nbconvert_exporter": "python",
   "pygments_lexer": "ipython3",
   "version": "3.6.4"
  }
 },
 "nbformat": 4,
 "nbformat_minor": 2
}
