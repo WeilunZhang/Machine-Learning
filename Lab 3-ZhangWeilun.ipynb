{
 "cells": [
  {
   "cell_type": "code",
   "execution_count": 26,
   "metadata": {},
   "outputs": [
    {
     "name": "stdout",
     "output_type": "stream",
     "text": [
      "The Harbin Institute of Technology was originally established in 1920 as the Harbin Sino-Russian School for Industry to educate railway engineers via a Russian method of instruction. \n",
      "Students could select from two majors at the time: Railway Construction or Electric Mechanic Engineering. \n",
      "On April 2, 1922, the school was renamed the Sino-Russian Industrial University. \n",
      "The original two majors eventually developed into two major departments: the Railway Construction Department and the Electric Engineering Department. \n",
      "Between 1925 and 1928 the University's Rector was Leonid Aleksandrovich Ustrugov, the Russian Deputy Minister of Railways under Nicholas II before the Russian Revolution and a key figure in the development of the Chinese Eastern Railway.\n"
     ]
    }
   ],
   "source": [
    "#open a .txt file\n",
    "########################################################################\n",
    "with open(\"mydata/ex1data1.txt\", mode = 'r', encoding='utf8') as myfile: \n",
    "        print(myfile.read())"
   ]
  },
  {
   "cell_type": "code",
   "execution_count": 15,
   "metadata": {},
   "outputs": [
    {
     "data": {
      "text/plain": [
       "True"
      ]
     },
     "execution_count": 15,
     "metadata": {},
     "output_type": "execute_result"
    }
   ],
   "source": [
    "myfile.closed"
   ]
  },
  {
   "cell_type": "code",
   "execution_count": 18,
   "metadata": {},
   "outputs": [
    {
     "name": "stdout",
     "output_type": "stream",
     "text": [
      "ID,Gender,Age,Annual income,Hometown,education level\n",
      "1,1,53,135,1,1\n",
      "2,2,22,147,4,1\n",
      "3,2,34,188,2,2\n",
      "4,2,58,141,5,4\n",
      "5,1,68,81,2,4\n",
      "6,2,26,169,3,4\n",
      "7,1,59,83,3,4\n",
      "8,2,52,119,5,1\n",
      "9,2,18,114,1,1\n",
      "10,2,65,60,4,1\n",
      "11,2,27,170,3,2\n",
      "12,1,36,118,1,2\n",
      "13,2,22,86,2,4\n",
      "14,2,48,75,4,1\n",
      "15,2,28,127,2,3\n",
      "16,2,64,176,2,1\n",
      "17,1,19,78,1,1\n",
      "18,2,43,114,1,3\n",
      "19,2,65,107,5,4\n"
     ]
    }
   ],
   "source": [
    "#open a .csv file\n",
    "######################################################\n",
    "with open('mydata/shoppingdatapart.csv', 'r') as myfile:\n",
    "    for line in myfile:\n",
    "        print(line, end ='')"
   ]
  },
  {
   "cell_type": "code",
   "execution_count": 19,
   "metadata": {},
   "outputs": [
    {
     "data": {
      "text/html": [
       "<div>\n",
       "<style scoped>\n",
       "    .dataframe tbody tr th:only-of-type {\n",
       "        vertical-align: middle;\n",
       "    }\n",
       "\n",
       "    .dataframe tbody tr th {\n",
       "        vertical-align: top;\n",
       "    }\n",
       "\n",
       "    .dataframe thead th {\n",
       "        text-align: right;\n",
       "    }\n",
       "</style>\n",
       "<table border=\"1\" class=\"dataframe\">\n",
       "  <thead>\n",
       "    <tr style=\"text-align: right;\">\n",
       "      <th></th>\n",
       "      <th>ID</th>\n",
       "      <th>Gender</th>\n",
       "      <th>Age</th>\n",
       "      <th>Annual income</th>\n",
       "      <th>Hometown</th>\n",
       "      <th>education level</th>\n",
       "    </tr>\n",
       "  </thead>\n",
       "  <tbody>\n",
       "    <tr>\n",
       "      <th>0</th>\n",
       "      <td>1</td>\n",
       "      <td>1</td>\n",
       "      <td>53</td>\n",
       "      <td>135</td>\n",
       "      <td>1</td>\n",
       "      <td>1</td>\n",
       "    </tr>\n",
       "    <tr>\n",
       "      <th>1</th>\n",
       "      <td>2</td>\n",
       "      <td>2</td>\n",
       "      <td>22</td>\n",
       "      <td>147</td>\n",
       "      <td>4</td>\n",
       "      <td>1</td>\n",
       "    </tr>\n",
       "    <tr>\n",
       "      <th>2</th>\n",
       "      <td>3</td>\n",
       "      <td>2</td>\n",
       "      <td>34</td>\n",
       "      <td>188</td>\n",
       "      <td>2</td>\n",
       "      <td>2</td>\n",
       "    </tr>\n",
       "    <tr>\n",
       "      <th>3</th>\n",
       "      <td>4</td>\n",
       "      <td>2</td>\n",
       "      <td>58</td>\n",
       "      <td>141</td>\n",
       "      <td>5</td>\n",
       "      <td>4</td>\n",
       "    </tr>\n",
       "    <tr>\n",
       "      <th>4</th>\n",
       "      <td>5</td>\n",
       "      <td>1</td>\n",
       "      <td>68</td>\n",
       "      <td>81</td>\n",
       "      <td>2</td>\n",
       "      <td>4</td>\n",
       "    </tr>\n",
       "  </tbody>\n",
       "</table>\n",
       "</div>"
      ],
      "text/plain": [
       "   ID  Gender  Age  Annual income  Hometown  education level\n",
       "0   1       1   53            135         1                1\n",
       "1   2       2   22            147         4                1\n",
       "2   3       2   34            188         2                2\n",
       "3   4       2   58            141         5                4\n",
       "4   5       1   68             81         2                4"
      ]
     },
     "execution_count": 19,
     "metadata": {},
     "output_type": "execute_result"
    }
   ],
   "source": [
    "import pandas as pd\n",
    "shopData = pd.read_csv('mydata/shoppingdatapart.csv') \n",
    "shopData.head()"
   ]
  },
  {
   "cell_type": "code",
   "execution_count": 29,
   "metadata": {},
   "outputs": [
    {
     "name": "stdout",
     "output_type": "stream",
     "text": [
      "['Sheet1']\n"
     ]
    },
    {
     "data": {
      "text/html": [
       "<div>\n",
       "<style scoped>\n",
       "    .dataframe tbody tr th:only-of-type {\n",
       "        vertical-align: middle;\n",
       "    }\n",
       "\n",
       "    .dataframe tbody tr th {\n",
       "        vertical-align: top;\n",
       "    }\n",
       "\n",
       "    .dataframe thead th {\n",
       "        text-align: right;\n",
       "    }\n",
       "</style>\n",
       "<table border=\"1\" class=\"dataframe\">\n",
       "  <thead>\n",
       "    <tr style=\"text-align: right;\">\n",
       "      <th></th>\n",
       "      <th>Years of living in Beijing</th>\n",
       "      <th>Annual Credit card consumption</th>\n",
       "      <th>Astrological sign</th>\n",
       "      <th>Blood type</th>\n",
       "      <th>Height</th>\n",
       "      <th>Weight</th>\n",
       "    </tr>\n",
       "  </thead>\n",
       "  <tbody>\n",
       "    <tr>\n",
       "      <th>0</th>\n",
       "      <td>31</td>\n",
       "      <td>0.0</td>\n",
       "      <td>1</td>\n",
       "      <td>4</td>\n",
       "      <td>159</td>\n",
       "      <td>62</td>\n",
       "    </tr>\n",
       "    <tr>\n",
       "      <th>1</th>\n",
       "      <td>20</td>\n",
       "      <td>11.0</td>\n",
       "      <td>1</td>\n",
       "      <td>1</td>\n",
       "      <td>175</td>\n",
       "      <td>64</td>\n",
       "    </tr>\n",
       "    <tr>\n",
       "      <th>2</th>\n",
       "      <td>28</td>\n",
       "      <td>21.4</td>\n",
       "      <td>9</td>\n",
       "      <td>1</td>\n",
       "      <td>151</td>\n",
       "      <td>49</td>\n",
       "    </tr>\n",
       "    <tr>\n",
       "      <th>3</th>\n",
       "      <td>10</td>\n",
       "      <td>26.0</td>\n",
       "      <td>3</td>\n",
       "      <td>3</td>\n",
       "      <td>161</td>\n",
       "      <td>50</td>\n",
       "    </tr>\n",
       "    <tr>\n",
       "      <th>4</th>\n",
       "      <td>9</td>\n",
       "      <td>20.0</td>\n",
       "      <td>4</td>\n",
       "      <td>4</td>\n",
       "      <td>167</td>\n",
       "      <td>69</td>\n",
       "    </tr>\n",
       "  </tbody>\n",
       "</table>\n",
       "</div>"
      ],
      "text/plain": [
       "  Years of living in Beijing  Annual Credit card consumption  \\\n",
       "0                         31                             0.0   \n",
       "1                         20                            11.0   \n",
       "2                         28                            21.4   \n",
       "3                         10                            26.0   \n",
       "4                          9                            20.0   \n",
       "\n",
       "   Astrological sign  Blood type Height  Weight  \n",
       "0                  1           4    159      62  \n",
       "1                  1           1    175      64  \n",
       "2                  9           1    151      49  \n",
       "3                  3           3    161      50  \n",
       "4                  4           4    167      69  "
      ]
     },
     "execution_count": 29,
     "metadata": {},
     "output_type": "execute_result"
    }
   ],
   "source": [
    "#open an excel file\n",
    "###################################################\n",
    "import pandas as pd\n",
    "file = 'mydata/shopDataex.xlsx'\n",
    "myfile = pd.ExcelFile(file) \n",
    "print(myfile.sheet_names) #printing out all the sheet names in the excel file\n",
    "dataframe = myfile.parse('Sheet1') #extracting data from the first sheet as a dataframe\n",
    "dataframe.head()"
   ]
  },
  {
   "cell_type": "code",
   "execution_count": 31,
   "metadata": {},
   "outputs": [],
   "source": [
    "#save this file to csv\n",
    "dataframe.to_csv('mydata/myfile0.csv', index = False)"
   ]
  },
  {
   "cell_type": "code",
   "execution_count": 50,
   "metadata": {},
   "outputs": [
    {
     "name": "stdout",
     "output_type": "stream",
     "text": [
      "Academic History***This is Not an Official Transcript***Create Date: 04/16/2018 19:20:24General Information Cumulative Summary  All credits are in quarter units. Cumulative summaries on this record may reflect adjustments for repeated coursesand/or other adjustments made in accordance with UCSD academic policies.UCSD Graduate Courses by TermTerm: Spring Qtr 2018 Term: Winter Qtr 2018 Term: Fall Qtr 2017 Student:Zhang, WeilunPID:A53239629Student Level:GRCollege:Graduate DivisionMajor:Engin Scis (Mechanical Engin)Intended Degree:Master of ScienceGrade OptionUC-Crdts AttmCrdts PssdUC-GPA CrdtsUC-Grade PointsUC-GPALetter28.0028.0028.00106.803.814TOTAL28.0028.0028.00106.803.814SubjectCourseCourse TitleUnitsGradePointsRepeatECE228ML for Physical Applications4.000.00ECE273Convex Optimization & Apps4.000.00MAE207Topics in Engineering ScienceBio-inspired mobile robotics4.000.00MAE247Coop Control/Multi-Agent Systm4.000.00Term Credits Passed:0.00Term GPA:0.000Term Grade Points:0.00Academic Status:Term GPA Credits:0.00SubjectCourseCourse TitleUnitsGradePointsRepeatMAE207Topics in Engineering ScienceSoft Robotics4.00A-14.80MAE280BLinear Control Design4.00A16.00MAE281ANonlinear Systems4.00B12.00Term Credits Passed:12.00Term GPA:3.566Term Grade Points:42.80Academic Status:Good StandingTerm GPA Credits:12.00SubjectCourseCourse TitleUnitsGradePointsRepeatMAE208Mathematics for Engineers4.00A16.00MAE209Cont Mechnc Appld to Med/Biogy4.00A16.00MAE280ALinear Systems Theory4.00A+16.00MAE283AParametric Ident/Theory&Method4.00A16.00Term Credits Passed:16.00Term GPA:4.000Term Grade Points:64.00Academic Status:Good StandingTerm GPA Credits:16.00Not an Official Transcriptpage 1 of\n"
     ]
    }
   ],
   "source": [
    "#open a pdf file\n",
    "#########################################\n",
    "import PyPDF2\n",
    "pdfFileObj = open('mydata/transcript.pdf', 'rb')#pdf是二进制文件，read binary\n",
    "pdfReader = PyPDF2.PdfFileReader(pdfFileObj)\n",
    "pdfReader.numPages\n",
    "pageObj = pdfReader.getPage(0)\n",
    "print(pageObj.extractText())\n",
    "pdfFileObj.close()"
   ]
  },
  {
   "cell_type": "code",
   "execution_count": null,
   "metadata": {},
   "outputs": [],
   "source": [
    "#Save pdf file as csv\n",
    "Text0 = pageObj.extractText()\n",
    "print(Text0)\n",
    "dataframe = Text0.parse()\n",
    "dataframe.to_csv('mydata/pdf0.csv', index = False)"
   ]
  },
  {
   "cell_type": "code",
   "execution_count": 61,
   "metadata": {},
   "outputs": [
    {
     "name": "stdout",
     "output_type": "stream",
     "text": [
      "22\n",
      "Classify ships in San Francisco Bay using Planet satellite imagery\n"
     ]
    }
   ],
   "source": [
    "#Open docx file\n",
    "################################################\n",
    "import docx\n",
    "doc = docx.Document('mydata/Proposal.docx')\n",
    "print(len(doc.paragraphs))\n",
    "print(doc.paragraphs[1].text)"
   ]
  },
  {
   "cell_type": "code",
   "execution_count": 63,
   "metadata": {},
   "outputs": [],
   "source": [
    "#Save docx file as csv\n",
    "doc.save('doc0.csv')"
   ]
  },
  {
   "cell_type": "code",
   "execution_count": 74,
   "metadata": {},
   "outputs": [
    {
     "data": {
      "text/plain": [
       "dict_keys(['status', 't', 'set_cache_time', 'data'])"
      ]
     },
     "execution_count": 74,
     "metadata": {},
     "output_type": "execute_result"
    }
   ],
   "source": [
    "#I cannot get access to a new api so I did this tutorial as exercise\n",
    "import requests\n",
    "url = 'https://sp0.baidu.com/8aQDcjqpAAV3otqbppnN2DJv/api.php?resource_id=6899&query=失信执行人名单&iname=中国银行'\n",
    "resp = requests.get(url)\n",
    "import json\n",
    "data = json.loads(resp.text, encoding='gb18030')\n",
    "data.keys()"
   ]
  },
  {
   "cell_type": "code",
   "execution_count": null,
   "metadata": {},
   "outputs": [],
   "source": [
    "result = data['data'][0]['result']\n",
    "for i in range(len(result)):\n",
    "        data = result[i]\n",
    "        caseCode = data['caseCode']\n",
    "        areaName = data['areaName']\n",
    "        businessEntity = data['businessEntity']\n",
    "        courtName = data['courtName']\n",
    "        duty = data['duty']\n",
    "        performance = data['performance']\n",
    "        disruptTypeName = data['disruptTypeName']\n",
    "        publishDate = data['publishDate']\n",
    "        regDate = data['regDate']\n",
    "        gistId = data['gistId']\n",
    "        gistUnit = data['gistUnit']\n",
    "        cardNum = data['cardNum']\n",
    "        print('  '.join([caseCode, areaName, businessEntity, courtName, duty, performance, disruptTypeName, publishDate, regDate, gistId, gistUnit, cardNum]))\n"
   ]
  }
 ],
 "metadata": {
  "kernelspec": {
   "display_name": "Python 3",
   "language": "python",
   "name": "python3"
  },
  "language_info": {
   "codemirror_mode": {
    "name": "ipython",
    "version": 3
   },
   "file_extension": ".py",
   "mimetype": "text/x-python",
   "name": "python",
   "nbconvert_exporter": "python",
   "pygments_lexer": "ipython3",
   "version": "3.6.4"
  }
 },
 "nbformat": 4,
 "nbformat_minor": 2
}
